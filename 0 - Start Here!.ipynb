{
 "cells": [
  {
   "cell_type": "markdown",
   "metadata": {},
   "source": [
    "# Getting started with Jupyter notebooks\n",
    "\n",
    "This document has two main objectives:\n",
    "  * a quick tutorial for Jupyter newbies.\n",
    "  * a summary and guide through the notebooks in this repository\n",
    "  \n",
    "The goal is to quickly get you started exploring these notebooks if you have no prior experience with Jupyter notebooks. This is not a replacement for the full [Jupyter documentation](https://jupyter.readthedocs.io/en/latest/) or its [Quick Start Guide](https://jupyter-notebook-beginner-guide.readthedocs.io/en/latest).\n",
    "\n",
    "If you already have experience with Jupyter notebooks, and you want to have a rather gentle introduction to Sherpa, you can keep reading. Otherwise, you can refer to the list of notebooks at the end of this document."
   ]
  },
  {
   "cell_type": "markdown",
   "metadata": {},
   "source": [
    "## What is a Jupyter notebook?\n",
    "\n",
    "Notebooks are documents produced by the Jupyter Notebook App, which contain both computer code (e.g. python) and rich text elements (paragraph, equations, figures, links, etc...). Notebook documents are both human-readable documents containing the analysis description and the results (figures, tables, etc..) as well as executable documents which can be run to perform data analysis.\n",
    "\n",
    "## How can you use the notebooks in this repository?\n",
    "\n",
    "### Read-only from GitHub\n",
    "The simplest form of fruition of a Jupyter notebook is to read it as a static page. We ran the notebooks on our systems, we saved them in a standard format, and then [uploaded them to GitHub](https://github.com/olaurino/sherpa-standalone-notebooks). GitHub is able to render such standard documents, including images and tables resulting from the analysis.\n",
    "\n",
    "### Run them locally (macOS/Linux)\n",
    "If you have a Linux or macOS system, you can install the full Sherpa/Jupyter stack and run the notebook service locally.\n",
    "\n",
    "The easiest way is to use [Anaconda](https://www.continuum.io/downloads), or its minimalistic version [Miniconda](http://conda.pydata.org/miniconda.html). Installing them provides you with the `conda` package manager, that you can use to create self-contained, isolated environments. Create one such environment for Sherpa and Jupyter notebooks, install all the dependencies necessary to run the notebooks, download the notebooks themselves and then launch `jupyter notebook`:\n",
    "\n",
    "~~~~\n",
    "$ bash\n",
    "$ conda create -n sherpa-workshop python=3.5   # note that we support also Python 2.7\n",
    "$ source activate sherpa-workshop\n",
    "$ conda install astropy matplotlib scipy ipython-notebook sherpa=4.8.2 -c sherpa\n",
    "$ pip install saba corner\n",
    "$ git clone https://github.com/olaurino/sherpa-standalone-notebooks\n",
    "$ cd sherpa-standalone-notebooks\n",
    "$ git checkout -b aas   # create a branch in git; save your changes as you go\n",
    "$ jupyter notebook\n",
    "~~~~\n",
    "\n",
    "When you run notebooks locally, changes are persisted. You can use `git` to commit changes, push them to your GitHub fork, and if you have suggestions for improvements over current notebooks or even for new notebooks you can issue Pull Requests against our repositories.\n",
    "\n",
    "If you know how to run Docker containers, you could also try the [sherpadev/sherpa](https://hub.docker.com/r/sherpadev/sherpa) image. This would not require any installation as the image contains all the necessary software and configuration.\n",
    "\n",
    "### Run them locally (Microsoft Windows)\n",
    "If you are familiar with virtualization technologies you can run Jupyter notebooks in a virtual machine or Docker container on Microsoft Windows. If you know how to run Docker containers on Windows you can use the [sherpadev/sherpa](https://hub.docker.com/r/sherpadev/sherpa) image. Detailed instructions are not provided here. However, please feel free to contact us if you would like to have more information on this option.\n",
    "\n",
    "### Run them from a cloud service\n",
    "\n",
    "Some cloud services allow users to actually run the notebooks without having to install anything, from any device, including tablets and smartphones, as long as you can run a web browser. This means you can re-run our notebooks, edit them, create new notebooks, and even upload and use your own files or install new software.\n",
    "\n",
    "These notebooks, however, are ephemeral. After a timeout of a few hours they are shut down and thrown away. You can save the notebooks by using the `File -> Download As` options. If you plan to run the notebooks locally at a later time you should download them in the Notebook format (`.ipynb`).\n",
    "\n",
    "These services are currently prototypes and aimed to live demos. There is no guarantee they will be up and running regularly or that your data will be persisted.\n",
    "\n",
    "#### Available services\n",
    "  * [AAS temporary service](http://sherpa.cfa.harvard.edu). For the duration of the AAS meeting in Grapevine, TX we are hosting a temporary service for AAS users participating to our workshop.\n",
    "  * The [MyBinder.org](http://mybinder.org/repo/olaurino/sherpa-standalone-notebooks) service provides live notebooks you can run yourself. We uploaded an image of the Sherpa notebooks. However, note that the service is free and it is not guaranteed any uptime. You can [check the status of the service on their status webpage](http://mybinder.org/status).\n",
    "  "
   ]
  },
  {
   "cell_type": "markdown",
   "metadata": {
    "slideshow": {
     "slide_type": "-"
    }
   },
   "source": [
    "## Running notebooks\n",
    "When you run `jupyter` in notebook mode, the first view you are presented with is the *Dashboard*. You can click on a link to a notebook and that notebook will open in a new browser window. From the *Dashboard* you can create new notebooks, duplicate or remove existing notebooks, upload files, and even launch a web terminal to install new software or run system commands from the Linux bash command line.\n",
    "\n",
    "### Cells\n",
    "A notebook is made of *cells*. Some cells contain rich text, but mostly they contain code. You can edit any code cell by clicking on it. Rich text cells can be edited by double clicking on them.\n",
    "\n",
    "Try editing this cell by double clicking on it and adding some text above or below the existing one.\n",
    "\n",
    "When you are done, hit `Shift+Enter` to *compute* the current cell, which for a rich text cell means rendering it as HTML."
   ]
  },
  {
   "cell_type": "markdown",
   "metadata": {},
   "source": [
    "The cell below is a Python code cell. You should see the current output as the output that was generated when the current notebook was run. Run the cell below by hitting `Shift+Enter` and the output will update to show the current date and time (if you are running Jupyter in a virtual machine or docker container *now* might be expressed in a different timezone than your own)."
   ]
  },
  {
   "cell_type": "code",
   "execution_count": 1,
   "metadata": {
    "collapsed": false
   },
   "outputs": [
    {
     "name": "stdout",
     "output_type": "stream",
     "text": [
      "2016-12-28 11:21:04.537514\n"
     ]
    }
   ],
   "source": [
    "from datetime import datetime\n",
    "print(datetime.now())\n",
    "a = 5"
   ]
  },
  {
   "cell_type": "markdown",
   "metadata": {},
   "source": [
    "Once a cell has been calculated, the symbols it has imported and the variables it has assigned will be available to other cells in the same notebook. For instance, the cell below prints the value of the variable `a` defined in the cell above."
   ]
  },
  {
   "cell_type": "code",
   "execution_count": 2,
   "metadata": {
    "collapsed": false
   },
   "outputs": [
    {
     "name": "stdout",
     "output_type": "stream",
     "text": [
      "5\n"
     ]
    }
   ],
   "source": [
    "print(a)"
   ]
  },
  {
   "cell_type": "markdown",
   "metadata": {},
   "source": [
    "You can go back to the cell defining `a`, change its value, then re-run the cell above.\n",
    "\n",
    "At any time, you can restart the *kernel*, i.e. the engine running the code you type in the cells. Restarting the *kernel* will reset all the cells, but the output will be still shown, unless you restart the *kernel* and clean out all the output cells as well. These options are available in the `Kernel` menu.\n",
    "\n",
    "You can also restart the *kernel* and run all the cells. Try that now, if you want."
   ]
  },
  {
   "cell_type": "markdown",
   "metadata": {},
   "source": [
    "Now, let's plot something simple, e.g. a parabola. In the next cell we define a Python function that implements the $f(x) = x^2$ analytical function.\n",
    "\n",
    "If you are in awe for the rendering of the mathematical expression above, double click on this cell to visualize the source code: you can use $\\LaTeX$ expressions by surrounding them with $ signs."
   ]
  },
  {
   "cell_type": "code",
   "execution_count": 3,
   "metadata": {
    "collapsed": true
   },
   "outputs": [],
   "source": [
    "def parabola(x):\n",
    "    return x**2"
   ]
  },
  {
   "cell_type": "markdown",
   "metadata": {},
   "source": [
    "Now, we define an array for the independent variable and, for each value, we calculate the dependent values array."
   ]
  },
  {
   "cell_type": "code",
   "execution_count": 4,
   "metadata": {
    "collapsed": true
   },
   "outputs": [],
   "source": [
    "x = [1, 2, 3]\n",
    "y = []\n",
    "for i in x:\n",
    "    y.append(parabola(i))"
   ]
  },
  {
   "cell_type": "code",
   "execution_count": 5,
   "metadata": {
    "collapsed": false
   },
   "outputs": [
    {
     "name": "stdout",
     "output_type": "stream",
     "text": [
      "[1, 4, 9]\n"
     ]
    }
   ],
   "source": [
    "print(y)"
   ]
  },
  {
   "cell_type": "markdown",
   "metadata": {},
   "source": [
    "There are more elegant ways of achieving the same result, and they are also more efficient when dealing with actual data. The cell below performs the above calculations using `numpy`."
   ]
  },
  {
   "cell_type": "code",
   "execution_count": 6,
   "metadata": {
    "collapsed": true
   },
   "outputs": [],
   "source": [
    "import numpy as np\n",
    "x = np.linspace(1, 3, 3) # create 3 linearly spaced elements from 1 to 3\n",
    "y = parabola(x) # The function will be applied (or broadcasted) to all elements in the x array"
   ]
  },
  {
   "cell_type": "code",
   "execution_count": 7,
   "metadata": {
    "collapsed": false
   },
   "outputs": [
    {
     "name": "stdout",
     "output_type": "stream",
     "text": [
      "[ 1.  2.  3.] [ 1.  4.  9.]\n"
     ]
    }
   ],
   "source": [
    "print(x, y)"
   ]
  },
  {
   "cell_type": "markdown",
   "metadata": {},
   "source": [
    "Let's create a more realistic dataset with more values and some noise. Note that we set the pseudo-random number generator to make sure the notebook always yields the same results. This is not realistic, though, and you don't usually need this in production."
   ]
  },
  {
   "cell_type": "code",
   "execution_count": 8,
   "metadata": {
    "collapsed": false
   },
   "outputs": [],
   "source": [
    "np.random.seed(4)\n",
    "\n",
    "x = np.linspace(1, 25)\n",
    "y = parabola(x)\n",
    "stddev = 20\n",
    "mean = 0\n",
    "y = y + np.random.normal(mean, stddev, y.size)\n",
    "err = np.full_like(y, stddev)"
   ]
  },
  {
   "cell_type": "markdown",
   "metadata": {},
   "source": [
    "Now we can perform a very simple fit with Sherpa.\n",
    "\n",
    "We will use the convenient `ui` module and set a polynomial model. Depending on the details of your installation you might get some Warning when importing Sherpa: they refer to optional component not present on your system and you can ignore them unless you are planning to use features related to those components."
   ]
  },
  {
   "cell_type": "code",
   "execution_count": 9,
   "metadata": {
    "collapsed": false
   },
   "outputs": [
    {
     "name": "stdout",
     "output_type": "stream",
     "text": [
      "WARNING: imaging routines will not be available, \n",
      "failed to import sherpa.image.ds9_backend due to \n",
      "'RuntimeErr: DS9Win unusable: Could not find ds9 on your PATH'\n",
      "WARNING: failed to import sherpa.astro.xspec; XSPEC models will not be available\n",
      "polynom1d.p1\n",
      "   Param        Type          Value          Min          Max      Units\n",
      "   -----        ----          -----          ---          ---      -----\n",
      "   p1.c0        thawed            1 -3.40282e+38  3.40282e+38           \n",
      "   p1.c1        frozen            0 -3.40282e+38  3.40282e+38           \n",
      "   p1.c2        frozen            0 -3.40282e+38  3.40282e+38           \n",
      "   p1.c3        frozen            0 -3.40282e+38  3.40282e+38           \n",
      "   p1.c4        frozen            0 -3.40282e+38  3.40282e+38           \n",
      "   p1.c5        frozen            0 -3.40282e+38  3.40282e+38           \n",
      "   p1.c6        frozen            0 -3.40282e+38  3.40282e+38           \n",
      "   p1.c7        frozen            0 -3.40282e+38  3.40282e+38           \n",
      "   p1.c8        frozen            0 -3.40282e+38  3.40282e+38           \n",
      "   p1.offset    frozen            0 -3.40282e+38  3.40282e+38           \n"
     ]
    }
   ],
   "source": [
    "from sherpa.astro import ui\n",
    "ui.load_arrays(1, x, y, err)\n",
    "ui.set_model(\"polynom1d.p1\")\n",
    "p1 = ui.get_model_component(\"p1\")\n",
    "print(p1)"
   ]
  },
  {
   "cell_type": "markdown",
   "metadata": {},
   "source": [
    "Note that the all parameters are frozen except `c0`, the intercept. Let's thaw a few parameters for the higher polynomial orders."
   ]
  },
  {
   "cell_type": "code",
   "execution_count": 10,
   "metadata": {
    "collapsed": true
   },
   "outputs": [],
   "source": [
    "p1.c1.thaw()\n",
    "p1.c2.thaw()"
   ]
  },
  {
   "cell_type": "markdown",
   "metadata": {},
   "source": [
    "Before actually fitting, let's plot the data. Sherpa has some convenience methods for producing a wide range of plots. If you want more control over the plots, you can use the `matplotlib` API directly, as we show with some simple examples at the end of this notebook."
   ]
  },
  {
   "cell_type": "code",
   "execution_count": 11,
   "metadata": {
    "collapsed": false
   },
   "outputs": [],
   "source": [
    "ui.plot_data()"
   ]
  },
  {
   "cell_type": "markdown",
   "metadata": {},
   "source": [
    "For this simple fit we will use the Sherpa defaults. More advanced notebooks in this repository provide more realistic examples."
   ]
  },
  {
   "cell_type": "code",
   "execution_count": 12,
   "metadata": {
    "collapsed": false
   },
   "outputs": [
    {
     "name": "stdout",
     "output_type": "stream",
     "text": [
      "Dataset               = 1\n",
      "Method                = levmar\n",
      "Statistic             = chi2\n",
      "Initial fit statistic = 10590.5\n",
      "Final fit statistic   = 48.0631 at function evaluation 16\n",
      "Data points           = 50\n",
      "Degrees of freedom    = 47\n",
      "Probability [Q-value] = 0.429544\n",
      "Reduced statistic     = 1.02262\n",
      "Change in statistic   = 10542.5\n",
      "   p1.c0          -3.86129    \n",
      "   p1.c1          0.513608    \n",
      "   p1.c2          0.991019    \n"
     ]
    }
   ],
   "source": [
    "ui.fit()"
   ]
  },
  {
   "cell_type": "markdown",
   "metadata": {},
   "source": [
    "We can plot the data along with the best fit model"
   ]
  },
  {
   "cell_type": "code",
   "execution_count": 13,
   "metadata": {
    "collapsed": false
   },
   "outputs": [],
   "source": [
    "ui.plot_fit()"
   ]
  },
  {
   "cell_type": "markdown",
   "metadata": {},
   "source": [
    "We can also plot the residuals."
   ]
  },
  {
   "cell_type": "code",
   "execution_count": 14,
   "metadata": {
    "collapsed": false
   },
   "outputs": [],
   "source": [
    "ui.plot_fit_resid()"
   ]
  },
  {
   "cell_type": "markdown",
   "metadata": {},
   "source": [
    "One of the most important aspects of fitting is error analysis. Sherpa provides several methods, below we use a simple confidence levels calculation. The output shows the best fit parameter value along with the lower and upper bounds. You can read them as `<value> -<lower> +<upper>`, e.g. $0.99 \\pm0.06$"
   ]
  },
  {
   "cell_type": "code",
   "execution_count": 15,
   "metadata": {
    "collapsed": false
   },
   "outputs": [
    {
     "name": "stdout",
     "output_type": "stream",
     "text": [
      "p1.c0 lower bound:\t-9.58675\n",
      "p1.c0 upper bound:\t9.58675\n",
      "p1.c1 lower bound:\t-1.69464\n",
      "p1.c2 lower bound:\t-0.0633353\n",
      "p1.c1 upper bound:\t1.69464\n",
      "p1.c2 upper bound:\t0.0633353\n",
      "Dataset               = 1\n",
      "Confidence Method     = confidence\n",
      "Iterative Fit Method  = None\n",
      "Fitting Method        = levmar\n",
      "Statistic             = chi2gehrels\n",
      "confidence 1-sigma (68.2689%) bounds:\n",
      "   Param            Best-Fit  Lower Bound  Upper Bound\n",
      "   -----            --------  -----------  -----------\n",
      "   p1.c0            -3.86129     -9.58675      9.58675\n",
      "   p1.c1            0.513608     -1.69464      1.69464\n",
      "   p1.c2            0.991019   -0.0633353    0.0633353\n"
     ]
    }
   ],
   "source": [
    "ui.confidence()"
   ]
  },
  {
   "cell_type": "markdown",
   "metadata": {},
   "source": [
    "Despite the noise, `c0` and `c1` are compatible with 0, and `c2` is close to 1 with a relatively low error. The uncertainty on the intercept is compatible with the standard deviation of 20 we set for the noise distribution.\n",
    "\n",
    "If you run the notebook multiple times the results will always be exactly the same because we manually set the random number generator seed. You can set the seed to a different value or disable the setting altogether to get different results."
   ]
  },
  {
   "cell_type": "markdown",
   "metadata": {},
   "source": [
    "If you need more control over the plots, you can use `matplotlib` directly.\n",
    "\n",
    "In order to initialize the `matplotlib` environment, run the following cell, which uses a jupyter *magic* command. Magic commands start with a `%` sign."
   ]
  },
  {
   "cell_type": "code",
   "execution_count": 16,
   "metadata": {
    "collapsed": true
   },
   "outputs": [],
   "source": [
    "%matplotlib inline"
   ]
  },
  {
   "cell_type": "markdown",
   "metadata": {},
   "source": [
    "To create plots you need to import the `pyplot` module."
   ]
  },
  {
   "cell_type": "code",
   "execution_count": 17,
   "metadata": {
    "collapsed": true
   },
   "outputs": [],
   "source": [
    "from matplotlib import pyplot as plt"
   ]
  },
  {
   "cell_type": "markdown",
   "metadata": {},
   "source": [
    "It's fairly straightforward to produce a simple scatter plot of the data."
   ]
  },
  {
   "cell_type": "code",
   "execution_count": 18,
   "metadata": {
    "collapsed": false
   },
   "outputs": [
    {
     "data": {
      "text/plain": [
       "<Container object of 3 artists>"
      ]
     },
     "execution_count": 18,
     "metadata": {},
     "output_type": "execute_result"
    },
    {
     "data": {
      "image/png": "[encoded data removed]",
      "text/plain": [
       "<matplotlib.figure.Figure at 0x7f11f51c2fd0>"
      ]
     },
     "metadata": {},
     "output_type": "display_data"
    }
   ],
   "source": [
    "plt.errorbar(x, y, yerr=err, fmt='.', color='green')"
   ]
  },
  {
   "cell_type": "markdown",
   "metadata": {},
   "source": [
    "Now let's plot the data along with the model"
   ]
  },
  {
   "cell_type": "code",
   "execution_count": 19,
   "metadata": {
    "collapsed": false
   },
   "outputs": [
    {
     "data": {
      "text/plain": [
       "[<matplotlib.lines.Line2D at 0x7f11f5093f60>]"
      ]
     },
     "execution_count": 19,
     "metadata": {},
     "output_type": "execute_result"
    },
    {
     "data": {
      "image/png": "[encoded data removed]",
      "text/plain": [
       "<matplotlib.figure.Figure at 0x7f11f5093f98>"
      ]
     },
     "metadata": {},
     "output_type": "display_data"
    }
   ],
   "source": [
    "plt.errorbar(x, y, yerr=err, fmt='.', color='blue')\n",
    "plt.plot(x, p1(x), color='green')"
   ]
  },
  {
   "cell_type": "markdown",
   "metadata": {},
   "source": [
    "Plotting the residuals in the same plot it a little bit more complex:"
   ]
  },
  {
   "cell_type": "code",
   "execution_count": 20,
   "metadata": {
    "collapsed": false
   },
   "outputs": [
    {
     "data": {
      "image/png": "[encoded data removed]",
      "text/plain": [
       "<matplotlib.figure.Figure at 0x7f11f50c3278>"
      ]
     },
     "metadata": {},
     "output_type": "display_data"
    }
   ],
   "source": [
    "plt.subplot(2, 1, 1)\n",
    "plt.errorbar(x, y, yerr=err, fmt='.', color='blue')\n",
    "plt.plot(x, p1(x), color='green')\n",
    "plt.title(\"Fit\")\n",
    "\n",
    "plt.subplot(2, 1, 2)\n",
    "plt.errorbar(x, y - p1(x), yerr=err, fmt='.', color='blue')\n",
    "plt.axhline(0, color='black')\n",
    "plt.title(\"Residuals\")\n",
    "\n",
    "plt.tight_layout()"
   ]
  },
  {
   "cell_type": "markdown",
   "metadata": {},
   "source": [
    "There are different ways of giving different heights to different subplots. One way is to use the `subplot2grid` method, as shown below."
   ]
  },
  {
   "cell_type": "code",
   "execution_count": 21,
   "metadata": {
    "collapsed": false
   },
   "outputs": [
    {
     "data": {
      "image/png": "[encoded data removed]",
      "text/plain": [
       "<matplotlib.figure.Figure at 0x7f11f50c9b38>"
      ]
     },
     "metadata": {},
     "output_type": "display_data"
    }
   ],
   "source": [
    "ax1 = plt.subplot2grid((5, 1), (0, 0), rowspan=3)\n",
    "ax2 = plt.subplot2grid((5, 1), (3, 0), rowspan=2)\n",
    "\n",
    "ax1.errorbar(x, y, yerr=err, fmt='.', color='blue')\n",
    "ax1.plot(x, p1(x), color='green')\n",
    "ax1.set_title(\"Fit\")\n",
    "\n",
    "ax2.errorbar(x, y - p1(x), yerr=err, fmt='.', color='blue')\n",
    "ax2.axhline(0, color='black')\n",
    "ax2.set_title(\"Residuals\")\n",
    "\n",
    "plt.tight_layout()"
   ]
  },
  {
   "cell_type": "markdown",
   "metadata": {},
   "source": [
    "This notebooks should be enough to get you started with Jupyter notebooks and Sherpa.\n",
    "\n",
    "Where to go now? Below is a list of notebooks with which you can explore several Sherpa features."
   ]
  },
  {
   "cell_type": "markdown",
   "metadata": {},
   "source": [
    "## Notebooks in this repository\n",
    "\n",
    "### Introductory notebooks\n",
    "  * [Really Simple Fit](really%20simple%20fit.ipynb)\n",
    "  * [Simple Sherpa Fit](simple%20sherpa%20fit.ipynb)\n",
    "\n",
    "### 2D fitting\n",
    "  * [2D Simulated Image Fit with Astropy and MCMC](2D%20Simulated%20Image%20Fit%20with%20Astropy%20and%20MCMC.ipynb): This notebook is inspired by a similar one by Doug Burke, but designed as a worksheep for the 229th AAS meeting, and it uses a package that provides a bridge between Astropy and Sherpa.\n",
    "  * [2D Simulated Image Fit with Sherpa UI and MCMC](2D%20Simulated%20Image%20Fit%20with%20Sherpa%20UI%20and%20MCMC.ipynb): This notebook carries out the same analysis as the previous one, this time using the Sherpa high level API.\n",
    "  * [Simulating a 2D Image and a Bit of Error Analysis](simulating%20a%202D%20image%20and%20a%20bit%20of%20error%20analysis.ipynb): The original notebook by Doug Burke with 2D fitting examples.\n",
    "  * <a href=\"simulating%20and%20fitting%20a%202D%20image%20(this%20time%20with%20a%20Bayesian%20approach).ipynb\">Simulating and fitting a 2D image (this time with a Bayesian approach)</a>: same as above, using MCMC.\n",
    "  \n",
    "### Extending Sherpa\n",
    "  * [User Model](user%20model.ipynb)\n",
    "  * [And Integrated User Model](an%20integrated%20user%20model.ipynb)\n",
    "  * <a href=\"extending%20existing%20models%20(and%20XSPEC).ipynb\">Extending Existing Models (and XSPEC)</a>. This notebooks requires XSPEC models to be installed, which is not usually the case with Standalone Sherpa. Instructions on how to build Sherpa with XSPEC support are [on the Sherpa website](https://github.com/sherpa/sherpa#xspec).\n",
    " \n",
    "### Plotting\n",
    "  * [Plotting Using the Lower-Level Routines](plotting%20using%20the%20lower-level%20routines.ipynb)"
   ]
  },
  {
   "cell_type": "code",
   "execution_count": null,
   "metadata": {
    "collapsed": true
   },
   "outputs": [],
   "source": []
  }
 ],
 "metadata": {
  "kernelspec": {
   "display_name": "Python 3",
   "language": "python",
   "name": "python3"
  },
  "language_info": {
   "codemirror_mode": {
    "name": "ipython",
    "version": 3
   },
   "file_extension": ".py",
   "mimetype": "text/x-python",
   "name": "python",
   "nbconvert_exporter": "python",
   "pygments_lexer": "ipython3",
   "version": "3.5.2"
  }
 },
 "nbformat": 4,
 "nbformat_minor": 2
}
